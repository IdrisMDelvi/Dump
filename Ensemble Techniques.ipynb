{
 "cells": [
  {
   "cell_type": "code",
   "execution_count": 1,
   "metadata": {},
   "outputs": [],
   "source": [
    "import numpy as np\n",
    "import pandas as pd\n",
    "from sklearn import metrics\n",
    "import seaborn as sns\n",
    "import scipy.stats as sts\n",
    "import matplotlib.pyplot as plt\n",
    "%matplotlib inline\n",
    "from sklearn.model_selection import train_test_split\n",
    "from sklearn.linear_model import LinearRegression\n",
    "from sklearn.linear_model import LogisticRegression\n",
    "from sklearn.naive_bayes import GaussianNB\n",
    "from sklearn.neighbors import KNeighborsClassifier\n",
    "from sklearn import svm\n",
    "from sklearn import tree\n",
    "from sklearn.tree import DecisionTreeClassifier\n",
    "from sklearn.ensemble import BaggingClassifier\n",
    "from sklearn.ensemble import AdaBoostClassifier\n",
    "from sklearn.ensemble import GradientBoostingClassifier\n",
    "from sklearn.ensemble import RandomForestClassifier\n",
    "from sklearn import metrics\n",
    "from os import system"
   ]
  },
  {
   "cell_type": "code",
   "execution_count": 2,
   "metadata": {},
   "outputs": [
    {
     "data": {
      "text/html": [
       "<div>\n",
       "<style scoped>\n",
       "    .dataframe tbody tr th:only-of-type {\n",
       "        vertical-align: middle;\n",
       "    }\n",
       "\n",
       "    .dataframe tbody tr th {\n",
       "        vertical-align: top;\n",
       "    }\n",
       "\n",
       "    .dataframe thead th {\n",
       "        text-align: right;\n",
       "    }\n",
       "</style>\n",
       "<table border=\"1\" class=\"dataframe\">\n",
       "  <thead>\n",
       "    <tr style=\"text-align: right;\">\n",
       "      <th></th>\n",
       "      <th>age</th>\n",
       "      <th>job</th>\n",
       "      <th>marital</th>\n",
       "      <th>education</th>\n",
       "      <th>default</th>\n",
       "      <th>balance</th>\n",
       "      <th>housing</th>\n",
       "      <th>loan</th>\n",
       "      <th>contact</th>\n",
       "      <th>day</th>\n",
       "      <th>month</th>\n",
       "      <th>duration</th>\n",
       "      <th>campaign</th>\n",
       "      <th>pdays</th>\n",
       "      <th>previous</th>\n",
       "      <th>poutcome</th>\n",
       "      <th>Target</th>\n",
       "    </tr>\n",
       "  </thead>\n",
       "  <tbody>\n",
       "    <tr>\n",
       "      <th>0</th>\n",
       "      <td>58</td>\n",
       "      <td>management</td>\n",
       "      <td>married</td>\n",
       "      <td>tertiary</td>\n",
       "      <td>no</td>\n",
       "      <td>2143</td>\n",
       "      <td>yes</td>\n",
       "      <td>no</td>\n",
       "      <td>unknown</td>\n",
       "      <td>5</td>\n",
       "      <td>may</td>\n",
       "      <td>261</td>\n",
       "      <td>1</td>\n",
       "      <td>-1</td>\n",
       "      <td>0</td>\n",
       "      <td>unknown</td>\n",
       "      <td>no</td>\n",
       "    </tr>\n",
       "    <tr>\n",
       "      <th>1</th>\n",
       "      <td>44</td>\n",
       "      <td>technician</td>\n",
       "      <td>single</td>\n",
       "      <td>secondary</td>\n",
       "      <td>no</td>\n",
       "      <td>29</td>\n",
       "      <td>yes</td>\n",
       "      <td>no</td>\n",
       "      <td>unknown</td>\n",
       "      <td>5</td>\n",
       "      <td>may</td>\n",
       "      <td>151</td>\n",
       "      <td>1</td>\n",
       "      <td>-1</td>\n",
       "      <td>0</td>\n",
       "      <td>unknown</td>\n",
       "      <td>no</td>\n",
       "    </tr>\n",
       "    <tr>\n",
       "      <th>2</th>\n",
       "      <td>33</td>\n",
       "      <td>entrepreneur</td>\n",
       "      <td>married</td>\n",
       "      <td>secondary</td>\n",
       "      <td>no</td>\n",
       "      <td>2</td>\n",
       "      <td>yes</td>\n",
       "      <td>yes</td>\n",
       "      <td>unknown</td>\n",
       "      <td>5</td>\n",
       "      <td>may</td>\n",
       "      <td>76</td>\n",
       "      <td>1</td>\n",
       "      <td>-1</td>\n",
       "      <td>0</td>\n",
       "      <td>unknown</td>\n",
       "      <td>no</td>\n",
       "    </tr>\n",
       "    <tr>\n",
       "      <th>3</th>\n",
       "      <td>47</td>\n",
       "      <td>blue-collar</td>\n",
       "      <td>married</td>\n",
       "      <td>unknown</td>\n",
       "      <td>no</td>\n",
       "      <td>1506</td>\n",
       "      <td>yes</td>\n",
       "      <td>no</td>\n",
       "      <td>unknown</td>\n",
       "      <td>5</td>\n",
       "      <td>may</td>\n",
       "      <td>92</td>\n",
       "      <td>1</td>\n",
       "      <td>-1</td>\n",
       "      <td>0</td>\n",
       "      <td>unknown</td>\n",
       "      <td>no</td>\n",
       "    </tr>\n",
       "    <tr>\n",
       "      <th>4</th>\n",
       "      <td>33</td>\n",
       "      <td>unknown</td>\n",
       "      <td>single</td>\n",
       "      <td>unknown</td>\n",
       "      <td>no</td>\n",
       "      <td>1</td>\n",
       "      <td>no</td>\n",
       "      <td>no</td>\n",
       "      <td>unknown</td>\n",
       "      <td>5</td>\n",
       "      <td>may</td>\n",
       "      <td>198</td>\n",
       "      <td>1</td>\n",
       "      <td>-1</td>\n",
       "      <td>0</td>\n",
       "      <td>unknown</td>\n",
       "      <td>no</td>\n",
       "    </tr>\n",
       "    <tr>\n",
       "      <th>5</th>\n",
       "      <td>35</td>\n",
       "      <td>management</td>\n",
       "      <td>married</td>\n",
       "      <td>tertiary</td>\n",
       "      <td>no</td>\n",
       "      <td>231</td>\n",
       "      <td>yes</td>\n",
       "      <td>no</td>\n",
       "      <td>unknown</td>\n",
       "      <td>5</td>\n",
       "      <td>may</td>\n",
       "      <td>139</td>\n",
       "      <td>1</td>\n",
       "      <td>-1</td>\n",
       "      <td>0</td>\n",
       "      <td>unknown</td>\n",
       "      <td>no</td>\n",
       "    </tr>\n",
       "    <tr>\n",
       "      <th>6</th>\n",
       "      <td>28</td>\n",
       "      <td>management</td>\n",
       "      <td>single</td>\n",
       "      <td>tertiary</td>\n",
       "      <td>no</td>\n",
       "      <td>447</td>\n",
       "      <td>yes</td>\n",
       "      <td>yes</td>\n",
       "      <td>unknown</td>\n",
       "      <td>5</td>\n",
       "      <td>may</td>\n",
       "      <td>217</td>\n",
       "      <td>1</td>\n",
       "      <td>-1</td>\n",
       "      <td>0</td>\n",
       "      <td>unknown</td>\n",
       "      <td>no</td>\n",
       "    </tr>\n",
       "    <tr>\n",
       "      <th>7</th>\n",
       "      <td>42</td>\n",
       "      <td>entrepreneur</td>\n",
       "      <td>divorced</td>\n",
       "      <td>tertiary</td>\n",
       "      <td>yes</td>\n",
       "      <td>2</td>\n",
       "      <td>yes</td>\n",
       "      <td>no</td>\n",
       "      <td>unknown</td>\n",
       "      <td>5</td>\n",
       "      <td>may</td>\n",
       "      <td>380</td>\n",
       "      <td>1</td>\n",
       "      <td>-1</td>\n",
       "      <td>0</td>\n",
       "      <td>unknown</td>\n",
       "      <td>no</td>\n",
       "    </tr>\n",
       "    <tr>\n",
       "      <th>8</th>\n",
       "      <td>58</td>\n",
       "      <td>retired</td>\n",
       "      <td>married</td>\n",
       "      <td>primary</td>\n",
       "      <td>no</td>\n",
       "      <td>121</td>\n",
       "      <td>yes</td>\n",
       "      <td>no</td>\n",
       "      <td>unknown</td>\n",
       "      <td>5</td>\n",
       "      <td>may</td>\n",
       "      <td>50</td>\n",
       "      <td>1</td>\n",
       "      <td>-1</td>\n",
       "      <td>0</td>\n",
       "      <td>unknown</td>\n",
       "      <td>no</td>\n",
       "    </tr>\n",
       "    <tr>\n",
       "      <th>9</th>\n",
       "      <td>43</td>\n",
       "      <td>technician</td>\n",
       "      <td>single</td>\n",
       "      <td>secondary</td>\n",
       "      <td>no</td>\n",
       "      <td>593</td>\n",
       "      <td>yes</td>\n",
       "      <td>no</td>\n",
       "      <td>unknown</td>\n",
       "      <td>5</td>\n",
       "      <td>may</td>\n",
       "      <td>55</td>\n",
       "      <td>1</td>\n",
       "      <td>-1</td>\n",
       "      <td>0</td>\n",
       "      <td>unknown</td>\n",
       "      <td>no</td>\n",
       "    </tr>\n",
       "  </tbody>\n",
       "</table>\n",
       "</div>"
      ],
      "text/plain": [
       "   age           job   marital  education default  balance housing loan  \\\n",
       "0   58    management   married   tertiary      no     2143     yes   no   \n",
       "1   44    technician    single  secondary      no       29     yes   no   \n",
       "2   33  entrepreneur   married  secondary      no        2     yes  yes   \n",
       "3   47   blue-collar   married    unknown      no     1506     yes   no   \n",
       "4   33       unknown    single    unknown      no        1      no   no   \n",
       "5   35    management   married   tertiary      no      231     yes   no   \n",
       "6   28    management    single   tertiary      no      447     yes  yes   \n",
       "7   42  entrepreneur  divorced   tertiary     yes        2     yes   no   \n",
       "8   58       retired   married    primary      no      121     yes   no   \n",
       "9   43    technician    single  secondary      no      593     yes   no   \n",
       "\n",
       "   contact  day month  duration  campaign  pdays  previous poutcome Target  \n",
       "0  unknown    5   may       261         1     -1         0  unknown     no  \n",
       "1  unknown    5   may       151         1     -1         0  unknown     no  \n",
       "2  unknown    5   may        76         1     -1         0  unknown     no  \n",
       "3  unknown    5   may        92         1     -1         0  unknown     no  \n",
       "4  unknown    5   may       198         1     -1         0  unknown     no  \n",
       "5  unknown    5   may       139         1     -1         0  unknown     no  \n",
       "6  unknown    5   may       217         1     -1         0  unknown     no  \n",
       "7  unknown    5   may       380         1     -1         0  unknown     no  \n",
       "8  unknown    5   may        50         1     -1         0  unknown     no  \n",
       "9  unknown    5   may        55         1     -1         0  unknown     no  "
      ]
     },
     "execution_count": 2,
     "metadata": {},
     "output_type": "execute_result"
    }
   ],
   "source": [
    "database = pd.read_csv('bank.csv')\n",
    "database.head(10)"
   ]
  },
  {
   "cell_type": "code",
   "execution_count": 3,
   "metadata": {},
   "outputs": [
    {
     "name": "stdout",
     "output_type": "stream",
     "text": [
      "<class 'pandas.core.frame.DataFrame'>\n",
      "RangeIndex: 45211 entries, 0 to 45210\n",
      "Data columns (total 17 columns):\n",
      "age          45211 non-null int64\n",
      "job          45211 non-null object\n",
      "marital      45211 non-null object\n",
      "education    45211 non-null object\n",
      "default      45211 non-null object\n",
      "balance      45211 non-null int64\n",
      "housing      45211 non-null object\n",
      "loan         45211 non-null object\n",
      "contact      45211 non-null object\n",
      "day          45211 non-null int64\n",
      "month        45211 non-null object\n",
      "duration     45211 non-null int64\n",
      "campaign     45211 non-null int64\n",
      "pdays        45211 non-null int64\n",
      "previous     45211 non-null int64\n",
      "poutcome     45211 non-null object\n",
      "Target       45211 non-null object\n",
      "dtypes: int64(7), object(10)\n",
      "memory usage: 5.9+ MB\n"
     ]
    }
   ],
   "source": [
    "database.info()\n",
    "#this gives us a general summary of the database"
   ]
  },
  {
   "cell_type": "code",
   "execution_count": 4,
   "metadata": {},
   "outputs": [
    {
     "data": {
      "text/plain": [
       "(45211, 17)"
      ]
     },
     "execution_count": 4,
     "metadata": {},
     "output_type": "execute_result"
    }
   ],
   "source": [
    "database.shape\n",
    "# Number of rows and columns."
   ]
  },
  {
   "cell_type": "code",
   "execution_count": 5,
   "metadata": {},
   "outputs": [
    {
     "data": {
      "text/plain": [
       "age           int64\n",
       "job          object\n",
       "marital      object\n",
       "education    object\n",
       "default      object\n",
       "balance       int64\n",
       "housing      object\n",
       "loan         object\n",
       "contact      object\n",
       "day           int64\n",
       "month        object\n",
       "duration      int64\n",
       "campaign      int64\n",
       "pdays         int64\n",
       "previous      int64\n",
       "poutcome     object\n",
       "Target       object\n",
       "dtype: object"
      ]
     },
     "execution_count": 5,
     "metadata": {},
     "output_type": "execute_result"
    }
   ],
   "source": [
    "database.dtypes\n",
    "# The datatypes of data in each column. Here we have integers and objects. We will be converting the objects to categorical\n",
    "# variables and numerical values later on."
   ]
  },
  {
   "cell_type": "code",
   "execution_count": 6,
   "metadata": {},
   "outputs": [
    {
     "name": "stdout",
     "output_type": "stream",
     "text": [
      "False\n",
      "age          0\n",
      "job          0\n",
      "marital      0\n",
      "education    0\n",
      "default      0\n",
      "balance      0\n",
      "housing      0\n",
      "loan         0\n",
      "contact      0\n",
      "day          0\n",
      "month        0\n",
      "duration     0\n",
      "campaign     0\n",
      "pdays        0\n",
      "previous     0\n",
      "poutcome     0\n",
      "Target       0\n",
      "dtype: int64\n"
     ]
    }
   ],
   "source": [
    "print(database.isnull().values.any())\n",
    "print(database.isnull().sum())\n",
    "# Here we confirm what we already saw in the previous line of code, that there are no missing values in the database."
   ]
  },
  {
   "cell_type": "code",
   "execution_count": 7,
   "metadata": {},
   "outputs": [
    {
     "data": {
      "text/html": [
       "<div>\n",
       "<style scoped>\n",
       "    .dataframe tbody tr th:only-of-type {\n",
       "        vertical-align: middle;\n",
       "    }\n",
       "\n",
       "    .dataframe tbody tr th {\n",
       "        vertical-align: top;\n",
       "    }\n",
       "\n",
       "    .dataframe thead th {\n",
       "        text-align: right;\n",
       "    }\n",
       "</style>\n",
       "<table border=\"1\" class=\"dataframe\">\n",
       "  <thead>\n",
       "    <tr style=\"text-align: right;\">\n",
       "      <th></th>\n",
       "      <th>age</th>\n",
       "      <th>balance</th>\n",
       "      <th>day</th>\n",
       "      <th>duration</th>\n",
       "      <th>campaign</th>\n",
       "      <th>pdays</th>\n",
       "      <th>previous</th>\n",
       "    </tr>\n",
       "  </thead>\n",
       "  <tbody>\n",
       "    <tr>\n",
       "      <th>count</th>\n",
       "      <td>45211.000000</td>\n",
       "      <td>45211.000000</td>\n",
       "      <td>45211.000000</td>\n",
       "      <td>45211.000000</td>\n",
       "      <td>45211.000000</td>\n",
       "      <td>45211.000000</td>\n",
       "      <td>45211.000000</td>\n",
       "    </tr>\n",
       "    <tr>\n",
       "      <th>mean</th>\n",
       "      <td>40.936210</td>\n",
       "      <td>1362.272058</td>\n",
       "      <td>15.806419</td>\n",
       "      <td>258.163080</td>\n",
       "      <td>2.763841</td>\n",
       "      <td>40.197828</td>\n",
       "      <td>0.580323</td>\n",
       "    </tr>\n",
       "    <tr>\n",
       "      <th>std</th>\n",
       "      <td>10.618762</td>\n",
       "      <td>3044.765829</td>\n",
       "      <td>8.322476</td>\n",
       "      <td>257.527812</td>\n",
       "      <td>3.098021</td>\n",
       "      <td>100.128746</td>\n",
       "      <td>2.303441</td>\n",
       "    </tr>\n",
       "    <tr>\n",
       "      <th>min</th>\n",
       "      <td>18.000000</td>\n",
       "      <td>-8019.000000</td>\n",
       "      <td>1.000000</td>\n",
       "      <td>0.000000</td>\n",
       "      <td>1.000000</td>\n",
       "      <td>-1.000000</td>\n",
       "      <td>0.000000</td>\n",
       "    </tr>\n",
       "    <tr>\n",
       "      <th>25%</th>\n",
       "      <td>33.000000</td>\n",
       "      <td>72.000000</td>\n",
       "      <td>8.000000</td>\n",
       "      <td>103.000000</td>\n",
       "      <td>1.000000</td>\n",
       "      <td>-1.000000</td>\n",
       "      <td>0.000000</td>\n",
       "    </tr>\n",
       "    <tr>\n",
       "      <th>50%</th>\n",
       "      <td>39.000000</td>\n",
       "      <td>448.000000</td>\n",
       "      <td>16.000000</td>\n",
       "      <td>180.000000</td>\n",
       "      <td>2.000000</td>\n",
       "      <td>-1.000000</td>\n",
       "      <td>0.000000</td>\n",
       "    </tr>\n",
       "    <tr>\n",
       "      <th>75%</th>\n",
       "      <td>48.000000</td>\n",
       "      <td>1428.000000</td>\n",
       "      <td>21.000000</td>\n",
       "      <td>319.000000</td>\n",
       "      <td>3.000000</td>\n",
       "      <td>-1.000000</td>\n",
       "      <td>0.000000</td>\n",
       "    </tr>\n",
       "    <tr>\n",
       "      <th>max</th>\n",
       "      <td>95.000000</td>\n",
       "      <td>102127.000000</td>\n",
       "      <td>31.000000</td>\n",
       "      <td>4918.000000</td>\n",
       "      <td>63.000000</td>\n",
       "      <td>871.000000</td>\n",
       "      <td>275.000000</td>\n",
       "    </tr>\n",
       "  </tbody>\n",
       "</table>\n",
       "</div>"
      ],
      "text/plain": [
       "                age        balance           day      duration      campaign  \\\n",
       "count  45211.000000   45211.000000  45211.000000  45211.000000  45211.000000   \n",
       "mean      40.936210    1362.272058     15.806419    258.163080      2.763841   \n",
       "std       10.618762    3044.765829      8.322476    257.527812      3.098021   \n",
       "min       18.000000   -8019.000000      1.000000      0.000000      1.000000   \n",
       "25%       33.000000      72.000000      8.000000    103.000000      1.000000   \n",
       "50%       39.000000     448.000000     16.000000    180.000000      2.000000   \n",
       "75%       48.000000    1428.000000     21.000000    319.000000      3.000000   \n",
       "max       95.000000  102127.000000     31.000000   4918.000000     63.000000   \n",
       "\n",
       "              pdays      previous  \n",
       "count  45211.000000  45211.000000  \n",
       "mean      40.197828      0.580323  \n",
       "std      100.128746      2.303441  \n",
       "min       -1.000000      0.000000  \n",
       "25%       -1.000000      0.000000  \n",
       "50%       -1.000000      0.000000  \n",
       "75%       -1.000000      0.000000  \n",
       "max      871.000000    275.000000  "
      ]
     },
     "execution_count": 7,
     "metadata": {},
     "output_type": "execute_result"
    }
   ],
   "source": [
    "database.describe()\n",
    "# 5-pt Summary of the numerical columns of the database.\n",
    "#Presence of negetive values in balance column is seen here, which will be handeled below.\n",
    "#Negetive one in pdays makes sense since it denote no previous contact."
   ]
  },
  {
   "cell_type": "code",
   "execution_count": 8,
   "metadata": {},
   "outputs": [
    {
     "name": "stdout",
     "output_type": "stream",
     "text": [
      "The Outliers in the Data are:\n",
      "[381]\n",
      "[745]\n",
      "[0]\n",
      "[963]\n",
      "[840]\n",
      "[1723]\n",
      "[582]\n"
     ]
    }
   ],
   "source": [
    "numerical_database= database[['age','balance','day','duration','campaign','pdays','previous']]\n",
    "print('The Outliers in the Data are:')\n",
    "\n",
    "for j in numerical_database.columns:\n",
    "\n",
    "    outliers=[]\n",
    "    outliers_total=[]\n",
    "    data=database[j]\n",
    "    mean=data.mean()\n",
    "    standard_deviation=data.std()\n",
    "    cutoff=standard_deviation*3\n",
    "    lower_limit=mean-cutoff\n",
    "    upper_limit=mean+cutoff\n",
    "\n",
    "    for i in data:\n",
    "        if (i > upper_limit or i < lower_limit):\n",
    "            outliers.append(i)\n",
    "            \n",
    "    outliers_total.append(len(outliers))\n",
    "    print(outliers_total)\n",
    "\n",
    "# From the 5 point summary above we can see that the data is heavily skewed, hence will contain a large number of \n",
    "# outliers as shown below. Looking at the table above we see that the min and the three quartiles remain the same\n",
    "# while the max value is significantly higher. This shows that the data is largely skewed to the left and hence most \n",
    "#of the higher values will become outliers. However due to their large number these are necessary in our prediction models.\n",
    "#This is further proven when we look at the frequency distributions below."
   ]
  },
  {
   "cell_type": "code",
   "execution_count": 9,
   "metadata": {},
   "outputs": [
    {
     "data": {
      "text/plain": [
       "(37931, 17)"
      ]
     },
     "execution_count": 9,
     "metadata": {},
     "output_type": "execute_result"
    }
   ],
   "source": [
    "neg_values = database[ database['balance'] <= 0 ].index\n",
    " \n",
    "database.drop(neg_values , inplace=True)\n",
    "database.shape\n",
    "\n",
    "#From the 5 point summary we noticed the presence of negetive values in the balance column which is not feasible. \n",
    "#Since we have a large database we drop the rows with incorrect values (lesser than and equal to 0)"
   ]
  },
  {
   "cell_type": "code",
   "execution_count": 10,
   "metadata": {},
   "outputs": [
    {
     "name": "stdout",
     "output_type": "stream",
     "text": [
      "management       8053\n",
      "blue-collar      8006\n",
      "technician       6334\n",
      "admin.           4312\n",
      "services         3355\n",
      "retired          1977\n",
      "self-employed    1367\n",
      "entrepreneur     1220\n",
      "unemployed       1122\n",
      "housemaid        1049\n",
      "student           880\n",
      "unknown           256\n",
      "Name: job, dtype: int64\n",
      "married     22737\n",
      "single      11030\n",
      "divorced     4164\n",
      "Name: marital, dtype: int64\n",
      "secondary    19171\n",
      "tertiary     11455\n",
      "primary       5707\n",
      "unknown       1598\n",
      "Name: education, dtype: int64\n",
      "no     37672\n",
      "yes      259\n",
      "Name: default, dtype: int64\n",
      "yes    20734\n",
      "no     17197\n",
      "Name: housing, dtype: int64\n",
      "no     32456\n",
      "yes     5475\n",
      "Name: loan, dtype: int64\n",
      "cellular     24751\n",
      "unknown      10669\n",
      "telephone     2511\n",
      "Name: contact, dtype: int64\n",
      "may    11282\n",
      "aug     5280\n",
      "jul     5264\n",
      "jun     4534\n",
      "nov     3496\n",
      "apr     2641\n",
      "feb     2350\n",
      "jan     1228\n",
      "oct      677\n",
      "sep      532\n",
      "mar      444\n",
      "dec      203\n",
      "Name: month, dtype: int64\n",
      "unknown    30616\n",
      "failure     4284\n",
      "other       1602\n",
      "success     1429\n",
      "Name: poutcome, dtype: int64\n",
      "no     33144\n",
      "yes     4787\n",
      "Name: Target, dtype: int64\n"
     ]
    }
   ],
   "source": [
    "print(database.job.value_counts())\n",
    "print(database.marital.value_counts())\n",
    "print(database.education.value_counts())\n",
    "print(database.default.value_counts())\n",
    "print(database.housing.value_counts())\n",
    "print(database.loan.value_counts())\n",
    "print(database.contact.value_counts())\n",
    "print(database.month.value_counts())\n",
    "print(database.poutcome.value_counts())\n",
    "print(database.Target.value_counts())\n",
    "\n",
    "#Looking at the categories available for the categorical variable in our data"
   ]
  },
  {
   "cell_type": "code",
   "execution_count": 11,
   "metadata": {},
   "outputs": [
    {
     "data": {
      "text/html": [
       "<div>\n",
       "<style scoped>\n",
       "    .dataframe tbody tr th:only-of-type {\n",
       "        vertical-align: middle;\n",
       "    }\n",
       "\n",
       "    .dataframe tbody tr th {\n",
       "        vertical-align: top;\n",
       "    }\n",
       "\n",
       "    .dataframe thead th {\n",
       "        text-align: right;\n",
       "    }\n",
       "</style>\n",
       "<table border=\"1\" class=\"dataframe\">\n",
       "  <thead>\n",
       "    <tr style=\"text-align: right;\">\n",
       "      <th></th>\n",
       "      <th>age</th>\n",
       "      <th>education</th>\n",
       "      <th>default</th>\n",
       "      <th>balance</th>\n",
       "      <th>housing</th>\n",
       "      <th>loan</th>\n",
       "      <th>day</th>\n",
       "      <th>month</th>\n",
       "      <th>duration</th>\n",
       "      <th>campaign</th>\n",
       "      <th>...</th>\n",
       "      <th>marital_divorced</th>\n",
       "      <th>marital_married</th>\n",
       "      <th>marital_single</th>\n",
       "      <th>contact_cellular</th>\n",
       "      <th>contact_telephone</th>\n",
       "      <th>contact_unknown</th>\n",
       "      <th>poutcome_failure</th>\n",
       "      <th>poutcome_other</th>\n",
       "      <th>poutcome_success</th>\n",
       "      <th>poutcome_unknown</th>\n",
       "    </tr>\n",
       "  </thead>\n",
       "  <tbody>\n",
       "    <tr>\n",
       "      <th>0</th>\n",
       "      <td>58</td>\n",
       "      <td>3</td>\n",
       "      <td>0</td>\n",
       "      <td>2143</td>\n",
       "      <td>1</td>\n",
       "      <td>0</td>\n",
       "      <td>5</td>\n",
       "      <td>5</td>\n",
       "      <td>261</td>\n",
       "      <td>1</td>\n",
       "      <td>...</td>\n",
       "      <td>0</td>\n",
       "      <td>1</td>\n",
       "      <td>0</td>\n",
       "      <td>0</td>\n",
       "      <td>0</td>\n",
       "      <td>1</td>\n",
       "      <td>0</td>\n",
       "      <td>0</td>\n",
       "      <td>0</td>\n",
       "      <td>1</td>\n",
       "    </tr>\n",
       "    <tr>\n",
       "      <th>1</th>\n",
       "      <td>44</td>\n",
       "      <td>2</td>\n",
       "      <td>0</td>\n",
       "      <td>29</td>\n",
       "      <td>1</td>\n",
       "      <td>0</td>\n",
       "      <td>5</td>\n",
       "      <td>5</td>\n",
       "      <td>151</td>\n",
       "      <td>1</td>\n",
       "      <td>...</td>\n",
       "      <td>0</td>\n",
       "      <td>0</td>\n",
       "      <td>1</td>\n",
       "      <td>0</td>\n",
       "      <td>0</td>\n",
       "      <td>1</td>\n",
       "      <td>0</td>\n",
       "      <td>0</td>\n",
       "      <td>0</td>\n",
       "      <td>1</td>\n",
       "    </tr>\n",
       "    <tr>\n",
       "      <th>2</th>\n",
       "      <td>33</td>\n",
       "      <td>2</td>\n",
       "      <td>0</td>\n",
       "      <td>2</td>\n",
       "      <td>1</td>\n",
       "      <td>1</td>\n",
       "      <td>5</td>\n",
       "      <td>5</td>\n",
       "      <td>76</td>\n",
       "      <td>1</td>\n",
       "      <td>...</td>\n",
       "      <td>0</td>\n",
       "      <td>1</td>\n",
       "      <td>0</td>\n",
       "      <td>0</td>\n",
       "      <td>0</td>\n",
       "      <td>1</td>\n",
       "      <td>0</td>\n",
       "      <td>0</td>\n",
       "      <td>0</td>\n",
       "      <td>1</td>\n",
       "    </tr>\n",
       "    <tr>\n",
       "      <th>3</th>\n",
       "      <td>47</td>\n",
       "      <td>-1</td>\n",
       "      <td>0</td>\n",
       "      <td>1506</td>\n",
       "      <td>1</td>\n",
       "      <td>0</td>\n",
       "      <td>5</td>\n",
       "      <td>5</td>\n",
       "      <td>92</td>\n",
       "      <td>1</td>\n",
       "      <td>...</td>\n",
       "      <td>0</td>\n",
       "      <td>1</td>\n",
       "      <td>0</td>\n",
       "      <td>0</td>\n",
       "      <td>0</td>\n",
       "      <td>1</td>\n",
       "      <td>0</td>\n",
       "      <td>0</td>\n",
       "      <td>0</td>\n",
       "      <td>1</td>\n",
       "    </tr>\n",
       "    <tr>\n",
       "      <th>4</th>\n",
       "      <td>33</td>\n",
       "      <td>-1</td>\n",
       "      <td>0</td>\n",
       "      <td>1</td>\n",
       "      <td>0</td>\n",
       "      <td>0</td>\n",
       "      <td>5</td>\n",
       "      <td>5</td>\n",
       "      <td>198</td>\n",
       "      <td>1</td>\n",
       "      <td>...</td>\n",
       "      <td>0</td>\n",
       "      <td>0</td>\n",
       "      <td>1</td>\n",
       "      <td>0</td>\n",
       "      <td>0</td>\n",
       "      <td>1</td>\n",
       "      <td>0</td>\n",
       "      <td>0</td>\n",
       "      <td>0</td>\n",
       "      <td>1</td>\n",
       "    </tr>\n",
       "    <tr>\n",
       "      <th>5</th>\n",
       "      <td>35</td>\n",
       "      <td>3</td>\n",
       "      <td>0</td>\n",
       "      <td>231</td>\n",
       "      <td>1</td>\n",
       "      <td>0</td>\n",
       "      <td>5</td>\n",
       "      <td>5</td>\n",
       "      <td>139</td>\n",
       "      <td>1</td>\n",
       "      <td>...</td>\n",
       "      <td>0</td>\n",
       "      <td>1</td>\n",
       "      <td>0</td>\n",
       "      <td>0</td>\n",
       "      <td>0</td>\n",
       "      <td>1</td>\n",
       "      <td>0</td>\n",
       "      <td>0</td>\n",
       "      <td>0</td>\n",
       "      <td>1</td>\n",
       "    </tr>\n",
       "    <tr>\n",
       "      <th>6</th>\n",
       "      <td>28</td>\n",
       "      <td>3</td>\n",
       "      <td>0</td>\n",
       "      <td>447</td>\n",
       "      <td>1</td>\n",
       "      <td>1</td>\n",
       "      <td>5</td>\n",
       "      <td>5</td>\n",
       "      <td>217</td>\n",
       "      <td>1</td>\n",
       "      <td>...</td>\n",
       "      <td>0</td>\n",
       "      <td>0</td>\n",
       "      <td>1</td>\n",
       "      <td>0</td>\n",
       "      <td>0</td>\n",
       "      <td>1</td>\n",
       "      <td>0</td>\n",
       "      <td>0</td>\n",
       "      <td>0</td>\n",
       "      <td>1</td>\n",
       "    </tr>\n",
       "    <tr>\n",
       "      <th>7</th>\n",
       "      <td>42</td>\n",
       "      <td>3</td>\n",
       "      <td>1</td>\n",
       "      <td>2</td>\n",
       "      <td>1</td>\n",
       "      <td>0</td>\n",
       "      <td>5</td>\n",
       "      <td>5</td>\n",
       "      <td>380</td>\n",
       "      <td>1</td>\n",
       "      <td>...</td>\n",
       "      <td>1</td>\n",
       "      <td>0</td>\n",
       "      <td>0</td>\n",
       "      <td>0</td>\n",
       "      <td>0</td>\n",
       "      <td>1</td>\n",
       "      <td>0</td>\n",
       "      <td>0</td>\n",
       "      <td>0</td>\n",
       "      <td>1</td>\n",
       "    </tr>\n",
       "    <tr>\n",
       "      <th>8</th>\n",
       "      <td>58</td>\n",
       "      <td>1</td>\n",
       "      <td>0</td>\n",
       "      <td>121</td>\n",
       "      <td>1</td>\n",
       "      <td>0</td>\n",
       "      <td>5</td>\n",
       "      <td>5</td>\n",
       "      <td>50</td>\n",
       "      <td>1</td>\n",
       "      <td>...</td>\n",
       "      <td>0</td>\n",
       "      <td>1</td>\n",
       "      <td>0</td>\n",
       "      <td>0</td>\n",
       "      <td>0</td>\n",
       "      <td>1</td>\n",
       "      <td>0</td>\n",
       "      <td>0</td>\n",
       "      <td>0</td>\n",
       "      <td>1</td>\n",
       "    </tr>\n",
       "    <tr>\n",
       "      <th>9</th>\n",
       "      <td>43</td>\n",
       "      <td>2</td>\n",
       "      <td>0</td>\n",
       "      <td>593</td>\n",
       "      <td>1</td>\n",
       "      <td>0</td>\n",
       "      <td>5</td>\n",
       "      <td>5</td>\n",
       "      <td>55</td>\n",
       "      <td>1</td>\n",
       "      <td>...</td>\n",
       "      <td>0</td>\n",
       "      <td>0</td>\n",
       "      <td>1</td>\n",
       "      <td>0</td>\n",
       "      <td>0</td>\n",
       "      <td>1</td>\n",
       "      <td>0</td>\n",
       "      <td>0</td>\n",
       "      <td>0</td>\n",
       "      <td>1</td>\n",
       "    </tr>\n",
       "  </tbody>\n",
       "</table>\n",
       "<p>10 rows × 35 columns</p>\n",
       "</div>"
      ],
      "text/plain": [
       "   age  education  default  balance  housing  loan  day  month  duration  \\\n",
       "0   58          3        0     2143        1     0    5      5       261   \n",
       "1   44          2        0       29        1     0    5      5       151   \n",
       "2   33          2        0        2        1     1    5      5        76   \n",
       "3   47         -1        0     1506        1     0    5      5        92   \n",
       "4   33         -1        0        1        0     0    5      5       198   \n",
       "5   35          3        0      231        1     0    5      5       139   \n",
       "6   28          3        0      447        1     1    5      5       217   \n",
       "7   42          3        1        2        1     0    5      5       380   \n",
       "8   58          1        0      121        1     0    5      5        50   \n",
       "9   43          2        0      593        1     0    5      5        55   \n",
       "\n",
       "   campaign  ...  marital_divorced  marital_married  marital_single  \\\n",
       "0         1  ...                 0                1               0   \n",
       "1         1  ...                 0                0               1   \n",
       "2         1  ...                 0                1               0   \n",
       "3         1  ...                 0                1               0   \n",
       "4         1  ...                 0                0               1   \n",
       "5         1  ...                 0                1               0   \n",
       "6         1  ...                 0                0               1   \n",
       "7         1  ...                 1                0               0   \n",
       "8         1  ...                 0                1               0   \n",
       "9         1  ...                 0                0               1   \n",
       "\n",
       "   contact_cellular  contact_telephone  contact_unknown  poutcome_failure  \\\n",
       "0                 0                  0                1                 0   \n",
       "1                 0                  0                1                 0   \n",
       "2                 0                  0                1                 0   \n",
       "3                 0                  0                1                 0   \n",
       "4                 0                  0                1                 0   \n",
       "5                 0                  0                1                 0   \n",
       "6                 0                  0                1                 0   \n",
       "7                 0                  0                1                 0   \n",
       "8                 0                  0                1                 0   \n",
       "9                 0                  0                1                 0   \n",
       "\n",
       "   poutcome_other  poutcome_success  poutcome_unknown  \n",
       "0               0                 0                 1  \n",
       "1               0                 0                 1  \n",
       "2               0                 0                 1  \n",
       "3               0                 0                 1  \n",
       "4               0                 0                 1  \n",
       "5               0                 0                 1  \n",
       "6               0                 0                 1  \n",
       "7               0                 0                 1  \n",
       "8               0                 0                 1  \n",
       "9               0                 0                 1  \n",
       "\n",
       "[10 rows x 35 columns]"
      ]
     },
     "execution_count": 11,
     "metadata": {},
     "output_type": "execute_result"
    }
   ],
   "source": [
    "for i in database.columns:\n",
    "    if database[i].dtype == 'object': \n",
    "        database[i] = pd.Categorical(database[i])\n",
    "        \n",
    "replaceStruct = {\n",
    "                \"education\": {\"primary\": 1, \"secondary\": 2 ,\"tertiary\": 3 ,\"unknown\":-1},\n",
    "                \"month\": {\"jan\": 1,\"feb\":2 ,\"mar\": 3,\"apr\": 4,\"may\": 5,\"jun\": 6,\n",
    "                          \"jul\":7 ,\"aug\": 8,\"sep\": 9,\"oct\": 10,\"nov\": 11,\"dec\":12},\n",
    "                \"phone\":    {\"no\": 1, \"yes\": 2 },\n",
    "                \"default\":  {\"no\": 0, \"yes\": 1 },\n",
    "                \"housing\":  {\"no\": 0, \"yes\": 1 },\n",
    "                \"loan\":     {\"no\": 0, \"yes\": 1 },\n",
    "                \"Target\":   {\"no\": 0, \"yes\": 1 }\n",
    "                }\n",
    "oneHotCols=[\"job\",\"marital\",\"contact\",\"poutcome\"]\n",
    "\n",
    "database=database.replace(replaceStruct)\n",
    "database=pd.get_dummies(database, columns=oneHotCols)\n",
    "database.head(10)\n",
    "\n",
    "#Here we prepare our data by converting the categorical variables to numerical variables by encoding them. We perform\n",
    "#binary encoding (one hot column) to the variables which have no hierarchy, while the others are encoded with integer values."
   ]
  },
  {
   "cell_type": "code",
   "execution_count": 12,
   "metadata": {},
   "outputs": [
    {
     "data": {
      "text/plain": [
       "age                  int64\n",
       "education            int64\n",
       "default              int64\n",
       "balance              int64\n",
       "housing              int64\n",
       "loan                 int64\n",
       "day                  int64\n",
       "month                int64\n",
       "duration             int64\n",
       "campaign             int64\n",
       "pdays                int64\n",
       "previous             int64\n",
       "Target               int64\n",
       "job_admin.           uint8\n",
       "job_blue-collar      uint8\n",
       "job_entrepreneur     uint8\n",
       "job_housemaid        uint8\n",
       "job_management       uint8\n",
       "job_retired          uint8\n",
       "job_self-employed    uint8\n",
       "job_services         uint8\n",
       "job_student          uint8\n",
       "job_technician       uint8\n",
       "job_unemployed       uint8\n",
       "job_unknown          uint8\n",
       "marital_divorced     uint8\n",
       "marital_married      uint8\n",
       "marital_single       uint8\n",
       "contact_cellular     uint8\n",
       "contact_telephone    uint8\n",
       "contact_unknown      uint8\n",
       "poutcome_failure     uint8\n",
       "poutcome_other       uint8\n",
       "poutcome_success     uint8\n",
       "poutcome_unknown     uint8\n",
       "dtype: object"
      ]
     },
     "execution_count": 12,
     "metadata": {},
     "output_type": "execute_result"
    }
   ],
   "source": [
    "database.dtypes\n",
    "# Here we can see that after the conversion performed above all our variables are of numerical type."
   ]
  },
  {
   "cell_type": "code",
   "execution_count": 13,
   "metadata": {},
   "outputs": [],
   "source": [
    "x = database.drop(['Target','month','day','contact_cellular','contact_telephone','contact_unknown'],axis=1)\n",
    "y = database[['Target']]\n",
    "# x denotes our independent variables, while y signifies our dependent variable. Variable which dont offer anything \n",
    "# in terms of classification as seen from the correlation heatmap can be droped.\n",
    "\n",
    "x_train, x_test, y_train, y_test = train_test_split(x, y, test_size=0.30, random_state=1)\n",
    "# Splitting the data into training and test set in the ratio of 70:30 respectively\n",
    "\n",
    "Performance = pd.DataFrame(np.random.rand(9,4),index='Logistic_Regression, Naive_Bayes, KNN, SVM, Decision_Tree, Bagging_classifier, Ada_Boost, Gradient_Boost, Random_Forest'.split(),\n",
    "                           columns='Training Testing Recall Precision'.split())\n",
    "# Here we create a table to compare the performance of our different prediction models."
   ]
  },
  {
   "cell_type": "code",
   "execution_count": 14,
   "metadata": {},
   "outputs": [
    {
     "name": "stdout",
     "output_type": "stream",
     "text": [
      "0.2733113833198978\n",
      "0.25860016499273064\n"
     ]
    }
   ],
   "source": [
    "#Linear Regression\n",
    "model = LinearRegression()\n",
    "model.fit(x_train, y_train)\n",
    "\n",
    "predict = model.predict(x_test)\n",
    "\n",
    "print(model.score(x_train, y_train))\n",
    "print(model.score(x_test, y_test))\n",
    "\n",
    "# Linear Regression is the simplest classification model, and as apparent doesnt work well here.\n",
    "# Moving on to better Classification models,"
   ]
  },
  {
   "cell_type": "code",
   "execution_count": 15,
   "metadata": {},
   "outputs": [
    {
     "name": "stdout",
     "output_type": "stream",
     "text": [
      "0.893826974501902\n",
      "0.8906854130052724\n"
     ]
    }
   ],
   "source": [
    "#Logistic Regression\n",
    "model = LogisticRegression(solver=\"liblinear\")\n",
    "model.fit(x_train, y_train.values.ravel())\n",
    "\n",
    "predict = model.predict(x_test)\n",
    "\n",
    "print(model.score(x_train, y_train))\n",
    "print(model.score(x_test, y_test))\n",
    "\n",
    "#performs significantly better than linear regression"
   ]
  },
  {
   "cell_type": "code",
   "execution_count": 16,
   "metadata": {},
   "outputs": [
    {
     "data": {
      "image/png": "[encoded data removed]",
      "text/plain": [
       "<Figure size 1080x504 with 2 Axes>"
      ]
     },
     "metadata": {
      "needs_background": "light"
     },
     "output_type": "display_data"
    }
   ],
   "source": [
    "confusion_matrix = metrics.confusion_matrix(y_test, predict, labels=[1, 0])\n",
    "\n",
    "cfm = pd.DataFrame(confusion_matrix, index = [i for i in [\"1\",\"0\"]],\n",
    "                  columns = [i for i in [\"Predict 1\",\"Predict 0\"]])\n",
    "plt.figure(figsize = (15,7))\n",
    "sns.heatmap(cfm, annot=True)\n",
    "\n",
    "Performance.iloc[0,:]=[model.score(x_train, y_train), model.score(x_test, y_test),\n",
    "                       (cfm.iloc[0,0]/(cfm.iloc[0,0]+cfm.iloc[0,1])), (cfm.iloc[0,0]/(cfm.iloc[0,0]+cfm.iloc[1,0]))]"
   ]
  },
  {
   "cell_type": "code",
   "execution_count": 17,
   "metadata": {},
   "outputs": [
    {
     "name": "stdout",
     "output_type": "stream",
     "text": [
      "0.8400436895032202\n",
      "0.8390158172231986\n"
     ]
    }
   ],
   "source": [
    "#Naive Bayes\n",
    "model = GaussianNB()\n",
    "model.fit(x_train, y_train.values.ravel())\n",
    "\n",
    "predict = model.predict(x_test)\n",
    "\n",
    "print(model.score(x_train, y_train))\n",
    "print(model.score(x_test, y_test))\n",
    "\n",
    "#Gives the best true positive rate as seen in performance table towards the end."
   ]
  },
  {
   "cell_type": "code",
   "execution_count": 18,
   "metadata": {},
   "outputs": [
    {
     "data": {
      "image/png": "[encoded data removed]",
      "text/plain": [
       "<Figure size 1080x504 with 2 Axes>"
      ]
     },
     "metadata": {
      "needs_background": "light"
     },
     "output_type": "display_data"
    }
   ],
   "source": [
    "confusion_matrix = metrics.confusion_matrix(y_test, predict, labels=[1, 0])\n",
    "\n",
    "cfm = pd.DataFrame(confusion_matrix, index = [i for i in [\"1\",\"0\"]],\n",
    "                  columns = [i for i in [\"Predict 1\",\"Predict 0\"]])\n",
    "plt.figure(figsize = (15,7))\n",
    "sns.heatmap(cfm, annot=True)\n",
    "\n",
    "Performance.iloc[1,:]=[model.score(x_train, y_train), model.score(x_test, y_test),\n",
    "                       (cfm.iloc[0,0]/(cfm.iloc[0,0]+cfm.iloc[0,1])), (cfm.iloc[0,0]/(cfm.iloc[0,0]+cfm.iloc[1,0]))]"
   ]
  },
  {
   "cell_type": "code",
   "execution_count": 19,
   "metadata": {},
   "outputs": [
    {
     "data": {
      "text/plain": [
       "[<matplotlib.lines.Line2D at 0x29c3a6d05c0>]"
      ]
     },
     "execution_count": 19,
     "metadata": {},
     "output_type": "execute_result"
    },
    {
     "data": {
      "image/png": "[encoded data removed]",
      "text/plain": [
       "<Figure size 432x288 with 1 Axes>"
      ]
     },
     "metadata": {
      "needs_background": "light"
     },
     "output_type": "display_data"
    }
   ],
   "source": [
    "#K Nearest Neighbours\n",
    "scores =[]\n",
    "for k in range(1,25):\n",
    "    NNH = KNeighborsClassifier(n_neighbors = k, weights = 'distance' )\n",
    "    NNH.fit(x_train, y_train.values.ravel())\n",
    "    scores.append(NNH.score(x_test, y_test))\n",
    "\n",
    "plt.plot(range(1,25),scores)\n",
    "\n",
    "# Calculating the optimal value of K"
   ]
  },
  {
   "cell_type": "code",
   "execution_count": 20,
   "metadata": {},
   "outputs": [
    {
     "name": "stdout",
     "output_type": "stream",
     "text": [
      "1.0\n",
      "0.873725834797891\n"
     ]
    }
   ],
   "source": [
    "model = KNeighborsClassifier(n_neighbors= 16 , weights = 'distance' )\n",
    "model.fit(x_train, y_train.values.ravel())\n",
    "\n",
    "predict = model.predict(x_test)\n",
    "\n",
    "print(model.score(x_train, y_train))\n",
    "print(model.score(x_test, y_test))\n",
    "# K value was chosen after performing a trail and error run of different K Values to find the lowest K value with best\n",
    "# performance. How this was done is shown babove"
   ]
  },
  {
   "cell_type": "code",
   "execution_count": 21,
   "metadata": {},
   "outputs": [
    {
     "data": {
      "image/png": "[encoded data removed]",
      "text/plain": [
       "<Figure size 1080x504 with 2 Axes>"
      ]
     },
     "metadata": {
      "needs_background": "light"
     },
     "output_type": "display_data"
    }
   ],
   "source": [
    "confusion_matrix = metrics.confusion_matrix(y_test, predict, labels=[1, 0])\n",
    "\n",
    "cfm = pd.DataFrame(confusion_matrix, index = [i for i in [\"1\",\"0\"]],\n",
    "                  columns = [i for i in [\"Predict 1\",\"Predict 0\"]])\n",
    "plt.figure(figsize = (15,7))\n",
    "sns.heatmap(cfm, annot=True)\n",
    "\n",
    "Performance.iloc[2,:]=[model.score(x_train, y_train), model.score(x_test, y_test),\n",
    "                       (cfm.iloc[0,0]/(cfm.iloc[0,0]+cfm.iloc[0,1])), (cfm.iloc[0,0]/(cfm.iloc[0,0]+cfm.iloc[1,0]))]"
   ]
  },
  {
   "cell_type": "code",
   "execution_count": 22,
   "metadata": {},
   "outputs": [
    {
     "name": "stdout",
     "output_type": "stream",
     "text": [
      "0.9995480396218598\n",
      "0.8669595782073813\n"
     ]
    }
   ],
   "source": [
    "#Support Vector Machine\n",
    "model = svm.SVC(gamma=0.025, C=3)\n",
    "model.fit(x_train , y_train.values.ravel())\n",
    "\n",
    "predict = model.predict(x_test)\n",
    "\n",
    "print(model.score(x_train, y_train))\n",
    "print(model.score(x_test, y_test))\n",
    "# Value of Gamma and C must be chosen after trail and error method.\n",
    "# Although it gives good accuracy, True positive rate is very poor. Refer performance table at the end."
   ]
  },
  {
   "cell_type": "code",
   "execution_count": 23,
   "metadata": {},
   "outputs": [
    {
     "data": {
      "image/png": "[encoded data removed]",
      "text/plain": [
       "<Figure size 1080x504 with 2 Axes>"
      ]
     },
     "metadata": {
      "needs_background": "light"
     },
     "output_type": "display_data"
    }
   ],
   "source": [
    "confusion_matrix = metrics.confusion_matrix(y_test, predict, labels=[1, 0])\n",
    "\n",
    "cfm = pd.DataFrame(confusion_matrix, index = [i for i in [\"1\",\"0\"]],\n",
    "                  columns = [i for i in [\"Predict 1\",\"Predict 0\"]])\n",
    "plt.figure(figsize = (15,7))\n",
    "sns.heatmap(cfm, annot=True)\n",
    "\n",
    "Performance.iloc[3,:]=[model.score(x_train, y_train), model.score(x_test, y_test),\n",
    "                       (cfm.iloc[0,0]/(cfm.iloc[0,0]+cfm.iloc[0,1])), (cfm.iloc[0,0]/(cfm.iloc[0,0]+cfm.iloc[1,0]))]"
   ]
  },
  {
   "cell_type": "code",
   "execution_count": 24,
   "metadata": {},
   "outputs": [
    {
     "name": "stdout",
     "output_type": "stream",
     "text": [
      "1.0\n",
      "0.840158172231986\n"
     ]
    }
   ],
   "source": [
    "#Decision Tree\n",
    "model = DecisionTreeClassifier(criterion = 'gini', random_state=1)\n",
    "model.fit(x_train, y_train.values.ravel())\n",
    "\n",
    "predict = model.predict(x_test)\n",
    "\n",
    "print(model.score(x_train, y_train))\n",
    "print(model.score(x_test, y_test))\n",
    "\n",
    "# Here we use gini criteria to perform spliting. From the result we notice that overfitting has occured as training \n",
    "# accuracy is 1.Lets try to improve testing accuracy by performing regularization as shown below."
   ]
  },
  {
   "cell_type": "code",
   "execution_count": 25,
   "metadata": {},
   "outputs": [
    {
     "name": "stdout",
     "output_type": "stream",
     "text": [
      "0.8955594892847727\n",
      "0.8928822495606327\n"
     ]
    }
   ],
   "source": [
    "model = DecisionTreeClassifier(criterion = 'gini', max_depth = 3, random_state=1)\n",
    "model.fit(x_train, y_train.values.ravel())\n",
    "\n",
    "predict = model.predict(x_test)\n",
    "\n",
    "print(model.score(x_train, y_train))\n",
    "print(model.score(x_test, y_test))\n",
    "\n",
    "#to reduce overfitting seen in prior model we will set a max value to limit deapth, i.e. the max number of nodes/branches\n",
    "#allowed. This will take care of over-fitting and improve test accuracy in exchange for training accuracy."
   ]
  },
  {
   "cell_type": "code",
   "execution_count": 26,
   "metadata": {},
   "outputs": [
    {
     "data": {
      "image/png": "[encoded data removed]",
      "text/plain": [
       "<Figure size 1080x504 with 2 Axes>"
      ]
     },
     "metadata": {
      "needs_background": "light"
     },
     "output_type": "display_data"
    }
   ],
   "source": [
    "confusion_matrix = metrics.confusion_matrix(y_test, predict, labels=[1, 0])\n",
    "\n",
    "cfm = pd.DataFrame(confusion_matrix, index = [i for i in [\"1\",\"0\"]],\n",
    "                  columns = [i for i in [\"Predict 1\",\"Predict 0\"]])\n",
    "plt.figure(figsize = (15,7))\n",
    "sns.heatmap(cfm, annot=True)\n",
    "\n",
    "Performance.iloc[4,:]=[model.score(x_train, y_train), model.score(x_test, y_test),\n",
    "                       (cfm.iloc[0,0]/(cfm.iloc[0,0]+cfm.iloc[0,1])), (cfm.iloc[0,0]/(cfm.iloc[0,0]+cfm.iloc[1,0]))]"
   ]
  },
  {
   "cell_type": "code",
   "execution_count": 27,
   "metadata": {},
   "outputs": [
    {
     "name": "stdout",
     "output_type": "stream",
     "text": [
      "0.9994727128921698\n",
      "0.8859402460456942\n"
     ]
    }
   ],
   "source": [
    "#Bagging\n",
    "model = BaggingClassifier(n_estimators=50,random_state=1)\n",
    "model.fit(x_train, y_train.values.ravel())\n",
    "\n",
    "predict = model.predict(x_test)\n",
    "\n",
    "print(model.score(x_train, y_train))\n",
    "print(model.score(x_test, y_test))\n",
    "\n",
    "#the problem of overfitting seen in decision tree is taken care of.Can vary number of estimators.We are choosing the \n",
    "#default base estimator as it performs best(after trial and error)"
   ]
  },
  {
   "cell_type": "code",
   "execution_count": 28,
   "metadata": {},
   "outputs": [
    {
     "data": {
      "image/png": "[encoded data removed]",
      "text/plain": [
       "<Figure size 1080x504 with 2 Axes>"
      ]
     },
     "metadata": {
      "needs_background": "light"
     },
     "output_type": "display_data"
    }
   ],
   "source": [
    "confusion_matrix = metrics.confusion_matrix(y_test, predict, labels=[1, 0])\n",
    "\n",
    "cfm = pd.DataFrame(confusion_matrix, index = [i for i in [\"1\",\"0\"]],\n",
    "                  columns = [i for i in [\"Predict 1\",\"Predict 0\"]])\n",
    "plt.figure(figsize = (15,7))\n",
    "sns.heatmap(cfm, annot=True)\n",
    "\n",
    "Performance.iloc[5,:]=[model.score(x_train, y_train), model.score(x_test, y_test),\n",
    "                       (cfm.iloc[0,0]/(cfm.iloc[0,0]+cfm.iloc[0,1])), (cfm.iloc[0,0]/(cfm.iloc[0,0]+cfm.iloc[1,0]))]"
   ]
  },
  {
   "cell_type": "code",
   "execution_count": 29,
   "metadata": {},
   "outputs": [
    {
     "name": "stdout",
     "output_type": "stream",
     "text": [
      "0.8928853903807766\n",
      "0.8892794376098418\n"
     ]
    }
   ],
   "source": [
    "#Ada Boosting\n",
    "model = AdaBoostClassifier(n_estimators=50, random_state=1)\n",
    "model.fit(x_train, y_train.values.ravel())\n",
    "\n",
    "predict = model.predict(x_test)\n",
    "\n",
    "print(model.score(x_train, y_train))\n",
    "print(model.score(x_test, y_test))\n"
   ]
  },
  {
   "cell_type": "code",
   "execution_count": 30,
   "metadata": {},
   "outputs": [
    {
     "data": {
      "image/png": "[encoded data removed]",
      "text/plain": [
       "<Figure size 1080x504 with 2 Axes>"
      ]
     },
     "metadata": {
      "needs_background": "light"
     },
     "output_type": "display_data"
    }
   ],
   "source": [
    "confusion_matrix = metrics.confusion_matrix(y_test, predict, labels=[1, 0])\n",
    "\n",
    "cfm = pd.DataFrame(confusion_matrix, index = [i for i in [\"1\",\"0\"]],\n",
    "                  columns = [i for i in [\"Predict 1\",\"Predict 0\"]])\n",
    "plt.figure(figsize = (15,7))\n",
    "sns.heatmap(cfm, annot=True)\n",
    "\n",
    "Performance.iloc[6,:]=[model.score(x_train, y_train), model.score(x_test, y_test),\n",
    "                       (cfm.iloc[0,0]/(cfm.iloc[0,0]+cfm.iloc[0,1])), (cfm.iloc[0,0]/(cfm.iloc[0,0]+cfm.iloc[1,0]))]"
   ]
  },
  {
   "cell_type": "code",
   "execution_count": 31,
   "metadata": {},
   "outputs": [
    {
     "name": "stdout",
     "output_type": "stream",
     "text": [
      "0.898949192120824\n",
      "0.8942003514938489\n"
     ]
    }
   ],
   "source": [
    "#Gradient Boosting\n",
    "model = GradientBoostingClassifier(n_estimators = 50,random_state=1)\n",
    "model.fit(x_train, y_train.values.ravel())\n",
    "\n",
    "predict = model.predict(x_test)\n",
    "\n",
    "print(model.score(x_train, y_train))\n",
    "print(model.score(x_test, y_test))"
   ]
  },
  {
   "cell_type": "code",
   "execution_count": 32,
   "metadata": {},
   "outputs": [
    {
     "data": {
      "image/png": "[encoded data removed]",
      "text/plain": [
       "<Figure size 1080x504 with 2 Axes>"
      ]
     },
     "metadata": {
      "needs_background": "light"
     },
     "output_type": "display_data"
    }
   ],
   "source": [
    "confusion_matrix = metrics.confusion_matrix(y_test, predict, labels=[1, 0])\n",
    "\n",
    "cfm = pd.DataFrame(confusion_matrix, index = [i for i in [\"1\",\"0\"]],\n",
    "                  columns = [i for i in [\"Predict 1\",\"Predict 0\"]])\n",
    "plt.figure(figsize = (15,7))\n",
    "sns.heatmap(cfm, annot=True)\n",
    "\n",
    "Performance.iloc[7,:]=[model.score(x_train, y_train), model.score(x_test, y_test),\n",
    "                       (cfm.iloc[0,0]/(cfm.iloc[0,0]+cfm.iloc[0,1])), (cfm.iloc[0,0]/(cfm.iloc[0,0]+cfm.iloc[1,0]))]"
   ]
  },
  {
   "cell_type": "code",
   "execution_count": 33,
   "metadata": {},
   "outputs": [
    {
     "name": "stdout",
     "output_type": "stream",
     "text": [
      "0.9994727128921698\n",
      "0.8894551845342706\n"
     ]
    }
   ],
   "source": [
    "#Random Forest\n",
    "model = RandomForestClassifier(n_estimators = 50, random_state=1,max_features=12)\n",
    "model.fit(x_train, y_train.values.ravel())\n",
    "\n",
    "predict = model.predict(x_test)\n",
    "\n",
    "print(model.score(x_train, y_train))\n",
    "print(model.score(x_test, y_test))\n",
    "\n",
    "#THis can only be done using decision trees. Number of differnt models can be varied."
   ]
  },
  {
   "cell_type": "code",
   "execution_count": 34,
   "metadata": {},
   "outputs": [
    {
     "data": {
      "image/png": "[encoded data removed]",
      "text/plain": [
       "<Figure size 1080x504 with 2 Axes>"
      ]
     },
     "metadata": {
      "needs_background": "light"
     },
     "output_type": "display_data"
    }
   ],
   "source": [
    "confusion_matrix = metrics.confusion_matrix(y_test, predict, labels=[1, 0])\n",
    "\n",
    "cfm = pd.DataFrame(confusion_matrix, index = [i for i in [\"1\",\"0\"]],\n",
    "                  columns = [i for i in [\"Predict 1\",\"Predict 0\"]])\n",
    "plt.figure(figsize = (15,7))\n",
    "sns.heatmap(cfm, annot=True)\n",
    "\n",
    "Performance.iloc[8,:]=[model.score(x_train, y_train), model.score(x_test, y_test),\n",
    "                       (cfm.iloc[0,0]/(cfm.iloc[0,0]+cfm.iloc[0,1])), (cfm.iloc[0,0]/(cfm.iloc[0,0]+cfm.iloc[1,0]))]"
   ]
  },
  {
   "cell_type": "markdown",
   "metadata": {},
   "source": [
    "#### Comparing Models & Conclusion"
   ]
  },
  {
   "cell_type": "code",
   "execution_count": 35,
   "metadata": {},
   "outputs": [
    {
     "data": {
      "text/html": [
       "<div>\n",
       "<style scoped>\n",
       "    .dataframe tbody tr th:only-of-type {\n",
       "        vertical-align: middle;\n",
       "    }\n",
       "\n",
       "    .dataframe tbody tr th {\n",
       "        vertical-align: top;\n",
       "    }\n",
       "\n",
       "    .dataframe thead th {\n",
       "        text-align: right;\n",
       "    }\n",
       "</style>\n",
       "<table border=\"1\" class=\"dataframe\">\n",
       "  <thead>\n",
       "    <tr style=\"text-align: right;\">\n",
       "      <th></th>\n",
       "      <th>Training</th>\n",
       "      <th>Testing</th>\n",
       "      <th>Recall</th>\n",
       "      <th>Precision</th>\n",
       "    </tr>\n",
       "  </thead>\n",
       "  <tbody>\n",
       "    <tr>\n",
       "      <th>Logistic_Regression,</th>\n",
       "      <td>0.893827</td>\n",
       "      <td>0.890685</td>\n",
       "      <td>0.301796</td>\n",
       "      <td>0.652239</td>\n",
       "    </tr>\n",
       "    <tr>\n",
       "      <th>Naive_Bayes,</th>\n",
       "      <td>0.840044</td>\n",
       "      <td>0.839016</td>\n",
       "      <td>0.506215</td>\n",
       "      <td>0.396216</td>\n",
       "    </tr>\n",
       "    <tr>\n",
       "      <th>KNN,</th>\n",
       "      <td>1.000000</td>\n",
       "      <td>0.873726</td>\n",
       "      <td>0.216160</td>\n",
       "      <td>0.508943</td>\n",
       "    </tr>\n",
       "    <tr>\n",
       "      <th>SVM,</th>\n",
       "      <td>0.999548</td>\n",
       "      <td>0.866960</td>\n",
       "      <td>0.006215</td>\n",
       "      <td>0.107143</td>\n",
       "    </tr>\n",
       "    <tr>\n",
       "      <th>Decision_Tree,</th>\n",
       "      <td>0.895559</td>\n",
       "      <td>0.892882</td>\n",
       "      <td>0.335635</td>\n",
       "      <td>0.654105</td>\n",
       "    </tr>\n",
       "    <tr>\n",
       "      <th>Bagging_classifier,</th>\n",
       "      <td>0.999473</td>\n",
       "      <td>0.885940</td>\n",
       "      <td>0.362569</td>\n",
       "      <td>0.583333</td>\n",
       "    </tr>\n",
       "    <tr>\n",
       "      <th>Ada_Boost,</th>\n",
       "      <td>0.892885</td>\n",
       "      <td>0.889279</td>\n",
       "      <td>0.323204</td>\n",
       "      <td>0.625668</td>\n",
       "    </tr>\n",
       "    <tr>\n",
       "      <th>Gradient_Boost,</th>\n",
       "      <td>0.898949</td>\n",
       "      <td>0.894200</td>\n",
       "      <td>0.348757</td>\n",
       "      <td>0.659269</td>\n",
       "    </tr>\n",
       "    <tr>\n",
       "      <th>Random_Forest</th>\n",
       "      <td>0.999473</td>\n",
       "      <td>0.889455</td>\n",
       "      <td>0.372928</td>\n",
       "      <td>0.606742</td>\n",
       "    </tr>\n",
       "  </tbody>\n",
       "</table>\n",
       "</div>"
      ],
      "text/plain": [
       "                      Training   Testing    Recall  Precision\n",
       "Logistic_Regression,  0.893827  0.890685  0.301796   0.652239\n",
       "Naive_Bayes,          0.840044  0.839016  0.506215   0.396216\n",
       "KNN,                  1.000000  0.873726  0.216160   0.508943\n",
       "SVM,                  0.999548  0.866960  0.006215   0.107143\n",
       "Decision_Tree,        0.895559  0.892882  0.335635   0.654105\n",
       "Bagging_classifier,   0.999473  0.885940  0.362569   0.583333\n",
       "Ada_Boost,            0.892885  0.889279  0.323204   0.625668\n",
       "Gradient_Boost,       0.898949  0.894200  0.348757   0.659269\n",
       "Random_Forest         0.999473  0.889455  0.372928   0.606742"
      ]
     },
     "execution_count": 35,
     "metadata": {},
     "output_type": "execute_result"
    }
   ],
   "source": [
    "Performance.head(10)"
   ]
  },
  {
   "cell_type": "code",
   "execution_count": 36,
   "metadata": {},
   "outputs": [
    {
     "data": {
      "text/plain": [
       "<matplotlib.axes._subplots.AxesSubplot at 0x29c403e2160>"
      ]
     },
     "execution_count": 36,
     "metadata": {},
     "output_type": "execute_result"
    },
    {
     "data": {
      "image/png": "[encoded data removed]",
      "text/plain": [
       "<Figure size 432x288 with 1 Axes>"
      ]
     },
     "metadata": {
      "needs_background": "light"
     },
     "output_type": "display_data"
    }
   ],
   "source": [
    "sns.countplot(database['Target'])\n",
    "# Our objective is to identify as many elements as possible from the 'yes' column."
   ]
  },
  {
   "cell_type": "markdown",
   "metadata": {},
   "source": [
    "##### Now looking at the performance measures of different classification models what conclusions can we draw. First we must note that in our classification problem, our top priority is to identify as many customers as possible that are amenable towards the marketing campaign. This is given by the 'recall' performance measure, which calculates how many of the total number of amenable clients did we correctly predict. This is our primary performance measure since the objective of this classification problems is to identify customers who are applicable to the marketing campaign.\n",
    "##### Looking at the table above, Naive bayes performs the best in terms of correctly identifying as many potential clients as possible closely followed by Bagging Classifier and Random Forest Classifier. Next the precision parameter is used to minimize the number of false posetives, Here Naive bayes performs poorly in comparision to other classifiers. The overall accuracy of naive Bayes classifier too is less compared to the other classifier. Despite this, it is the prefered classifier for our classification problem as it identifies the most number of potential clients correctly.\n",
    "##### An import observation to be made here is the performance of SVM classifier. Although it overall performance/accuracy is as good as the other classifiers when looking at its recall and precision values we realize how poorly it performs.\n",
    "##### The Ensemble classifiers perform as well as the base classifiers in terms of accuracy and better than them when we consider the recall parameter. With the slight exception of Naive Bayes the ensemble classifiers perform better than the base classifiers. Bagging classifer and Random Forest are the best."
   ]
  }
 ],
 "metadata": {
  "kernelspec": {
   "display_name": "Python 3",
   "language": "python",
   "name": "python3"
  },
  "language_info": {
   "codemirror_mode": {
    "name": "ipython",
    "version": 3
   },
   "file_extension": ".py",
   "mimetype": "text/x-python",
   "name": "python",
   "nbconvert_exporter": "python",
   "pygments_lexer": "ipython3",
   "version": "3.8.8"
  }
 },
 "nbformat": 4,
 "nbformat_minor": 2
}
