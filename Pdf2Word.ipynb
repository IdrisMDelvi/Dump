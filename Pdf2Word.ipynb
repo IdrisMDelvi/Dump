{
 "cells": [
  {
   "cell_type": "code",
   "execution_count": 6,
   "metadata": {},
   "outputs": [],
   "source": [
    "import glob\n",
    "import win32com.client\n",
    "import os"
   ]
  },
  {
   "cell_type": "code",
   "execution_count": 7,
   "metadata": {},
   "outputs": [],
   "source": [
    "word = win32com.client.Dispatch(\"Word.Application\")\n",
    "word.visible = 1"
   ]
  },
  {
   "cell_type": "code",
   "execution_count": null,
   "metadata": {},
   "outputs": [],
   "source": [
    "#pdfs_path = \"\" # folder where the .pdf files are stored\n",
    "#for i, doc in enumerate(glob.iglob(pdfs_path+\"*.pdf\")):\n",
    "for i, doc in enumerate(glob.iglob(\"pdf1.pdf\")):\n",
    "    print(doc)\n",
    "    filename = doc.split('\\\\')[-1]\n",
    "    in_file = os.path.abspath(doc)\n",
    "    print(in_file)\n",
    "    wb = word.Documents.Open(in_file)\n",
    "    #out_file = os.path.abspath(reqs_path +filename[0:-4]+ \".docx\".format(i))\n",
    "    out_file = os.path.abspath(\"test1.docx\".format(i))\n",
    "    print(\"outfile\\n\",out_file)\n",
    "    wb.SaveAs2(out_file, FileFormat=16) # file format for docx\n",
    "    print(\"success...\")\n",
    "    wb.Close()\n",
    "\n",
    "word.Quit()"
   ]
  }
 ],
 "metadata": {
  "kernelspec": {
   "display_name": "Python 3",
   "language": "python",
   "name": "python3"
  },
  "language_info": {
   "codemirror_mode": {
    "name": "ipython",
    "version": 3
   },
   "file_extension": ".py",
   "mimetype": "text/x-python",
   "name": "python",
   "nbconvert_exporter": "python",
   "pygments_lexer": "ipython3",
   "version": "3.8.8"
  }
 },
 "nbformat": 4,
 "nbformat_minor": 4
}
